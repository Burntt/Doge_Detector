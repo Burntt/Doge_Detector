{
 "cells": [
  {
   "cell_type": "code",
   "execution_count": 4,
   "metadata": {},
   "outputs": [],
   "source": [
    "from PIL import Image\n",
    "from random import randrange\n",
    "\n",
    "image_path = '../data/raw/'\n",
    "transformed_image_path = '../data/processed/'\n",
    "\n",
    "desired_size = 256\n",
    "size_after_random_crop = 224\n",
    "random_crop_per_img = 20\n",
    "\n",
    "for i in range(216):\n",
    "    img = Image.open(image_path + 'positive/' + str(i) + '_positive.jpg')\n",
    "    old_size = img.size\n",
    "    ratio = float(desired_size)/max(old_size)\n",
    "    new_size = tuple([int(x*ratio) for x in old_size])\n",
    "    img = img.resize(new_size, Image.ANTIALIAS)\n",
    "    transformed_img = Image.new(\"RGB\", (desired_size, desired_size))\n",
    "    transformed_img.paste(img, ((desired_size-new_size[0])//2,\n",
    "                        (desired_size-new_size[1])//2))\n",
    "    \n",
    "    x, y = transformed_img.size\n",
    "\n",
    "    for j in range(random_crop_per_img):\n",
    "        x1 = randrange(0, x - size_after_random_crop)\n",
    "        y1 = randrange(0, y - size_after_random_crop)\n",
    "        transformed_img.crop((x1, y1, x1 + size_after_random_crop, y1 + size_after_random_crop)).save(transformed_image_path + 'positive/' + str(i) + '_crop_' + str(j) + '_positive.jpg')\n",
    "        \n",
    "for i in range(436):\n",
    "    img = Image.open(image_path + 'negative/' + str(i) + '_negative.jpg')\n",
    "    old_size = img.size\n",
    "    ratio = float(desired_size)/max(old_size)\n",
    "    new_size = tuple([int(x*ratio) for x in old_size])\n",
    "    img = img.resize(new_size, Image.ANTIALIAS)\n",
    "    transformed_img = Image.new(\"RGB\", (desired_size, desired_size))\n",
    "    transformed_img.paste(img, ((desired_size-new_size[0])//2,\n",
    "                        (desired_size-new_size[1])//2))\n",
    "    \n",
    "    x, y = transformed_img.size\n",
    "\n",
    "    for j in range(random_crop_per_img):\n",
    "        x1 = randrange(0, x - size_after_random_crop)\n",
    "        y1 = randrange(0, y - size_after_random_crop)\n",
    "        transformed_img.crop((x1, y1, x1 + size_after_random_crop, y1 + size_after_random_crop)).save(transformed_image_path + 'negative/' + str(i) + '_crop_' + str(j) + '_negative.jpg')"
   ]
  },
  {
   "cell_type": "code",
   "execution_count": null,
   "metadata": {},
   "outputs": [],
   "source": []
  }
 ],
 "metadata": {
  "kernelspec": {
   "display_name": "tensorflow",
   "language": "python",
   "name": "tensorflow"
  },
  "language_info": {
   "codemirror_mode": {
    "name": "ipython",
    "version": 3
   },
   "file_extension": ".py",
   "mimetype": "text/x-python",
   "name": "python",
   "nbconvert_exporter": "python",
   "pygments_lexer": "ipython3",
   "version": "3.8.10"
  }
 },
 "nbformat": 4,
 "nbformat_minor": 1
}
