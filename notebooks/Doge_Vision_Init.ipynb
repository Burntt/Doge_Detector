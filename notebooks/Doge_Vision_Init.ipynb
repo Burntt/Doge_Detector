{
 "cells": [
  {
   "cell_type": "markdown",
   "metadata": {},
   "source": [
    "# Dogevision 1.0"
   ]
  },
  {
   "cell_type": "markdown",
   "metadata": {},
   "source": [
    "### Usefull links\n",
    "\n",
    "##### Detectron2\n",
    "\n",
    "- https://colab.research.google.com/drive/16jcaJoc6bCFAQ96jDe2HwtXj7BMD_-m5\n",
    "\n",
    "##### Duc Pham's Positives\n",
    "\n",
    "- https://drive.google.com/drive/folders/1KETSBqxzD7u0XI1452waivgWQE5WVQyV?usp=sharing"
   ]
  },
  {
   "cell_type": "markdown",
   "metadata": {},
   "source": [
    "### Centralized repo\n",
    "- GitHub\n",
    "- Cookie Cutter Data Science (project structure)\n",
    "\n",
    "### Agenda\n",
    "- This week dataset + basic classification\n",
    "- Next week segmentation + object detection\n",
    "\n",
    "### How do we get the dataset?\n",
    "\n",
    "- The shiba dataset is ok for now we need to obtain the negatives\n",
    "- Scrapping meme's\n",
    "- Resizing the images\n",
    "- Albumentations in the assignment to resize images\n",
    "- How many negative images do we need?\n",
    "- 200 negatives are necessary\n",
    "- With augmentation\n",
    "\n",
    "##### Elon Musks profile contains:\n",
    "\n",
    "- Meme's\n",
    "- Politics\n",
    "- Starlink\n",
    "- SpaceX\n",
    "- Booster\n",
    "\n",
    "### Model\n",
    "\n",
    "- For classification use some pretrained model and adjust it (ResNet)\n",
    "- If we start off with object detection might start with Detectron2"
   ]
  }
 ],
 "metadata": {
  "kernelspec": {
   "display_name": "Python 3.8 (pytorch)",
   "language": "python",
   "name": "pytorch"
  },
  "language_info": {
   "codemirror_mode": {
    "name": "ipython",
    "version": 3
   },
   "file_extension": ".py",
   "mimetype": "text/x-python",
   "name": "python",
   "nbconvert_exporter": "python",
   "pygments_lexer": "ipython3",
   "version": "3.8.8"
  }
 },
 "nbformat": 4,
 "nbformat_minor": 4
}